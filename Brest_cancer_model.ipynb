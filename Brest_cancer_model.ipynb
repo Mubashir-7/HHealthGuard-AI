{
  "nbformat": 4,
  "nbformat_minor": 0,
  "metadata": {
    "colab": {
      "provenance": []
    },
    "kernelspec": {
      "name": "python3",
      "display_name": "Python 3"
    },
    "language_info": {
      "name": "python"
    }
  },
  "cells": [
    {
      "cell_type": "code",
      "execution_count": 6,
      "metadata": {
        "colab": {
          "base_uri": "https://localhost:8080/",
          "height": 106
        },
        "id": "mT7xiell2kO8",
        "outputId": "6ea9510c-9432-4f51-8e43-2e8fb817b48f"
      },
      "outputs": [
        {
          "output_type": "error",
          "ename": "SyntaxError",
          "evalue": "invalid syntax (<ipython-input-6-7e0aa47685bd>, line 56)",
          "traceback": [
            "\u001b[0;36m  File \u001b[0;32m\"<ipython-input-6-7e0aa47685bd>\"\u001b[0;36m, line \u001b[0;32m56\u001b[0m\n\u001b[0;31m    print(f\"Predicted Diagnosis: {predicted_label} (M = Malignant, B = Benign)\")3\u001b[0m\n\u001b[0m                                                                                ^\u001b[0m\n\u001b[0;31mSyntaxError\u001b[0m\u001b[0;31m:\u001b[0m invalid syntax\n"
          ]
        }
      ],
      "source": [
        "import pandas as pd\n",
        "import numpy as np\n",
        "import matplotlib.pyplot as plt\n",
        "import seaborn as sns\n",
        "from sklearn.model_selection import train_test_split\n",
        "from sklearn.preprocessing import StandardScaler, LabelEncoder\n",
        "from sklearn.ensemble import RandomForestClassifier\n",
        "from sklearn.metrics import accuracy_score, classification_report, confusion_matrix\n",
        "\n",
        "# Load dataset\n",
        "df = pd.read_csv(\"data.csv\")\n",
        "\n",
        "# Drop unnecessary columns\n",
        "df.drop(columns=[\"Unnamed: 32\", \"id\"], inplace=True)\n",
        "\n",
        "# Encode target variable\n",
        "label_encoder = LabelEncoder()\n",
        "df[\"diagnosis\"] = label_encoder.fit_transform(df[\"diagnosis\"])\n",
        "\n",
        "# Split dataset into features and target\n",
        "X = df.drop(columns=[\"diagnosis\"])\n",
        "y = df[\"diagnosis\"]\n",
        "\n",
        "# Normalize data\n",
        "scaler = StandardScaler()\n",
        "X_scaled = scaler.fit_transform(X)\n",
        "\n",
        "# Split into train and test sets\n",
        "X_train, X_test, y_train, y_test = train_test_split(X_scaled, y, test_size=0.2, random_state=42)\n",
        "\n",
        "# Define and train Random Forest model\n",
        "model = RandomForestClassifier(n_estimators=100, max_depth=None, min_samples_split=2, min_samples_leaf=1, random_state=42)\n",
        "model.fit(X_train, y_train)\n",
        "\n",
        "# Predict and evaluate\n",
        "y_pred = model.predict(X_test)\n",
        "acc = accuracy_score(y_test, y_pred)\n",
        "print(f\"Random Forest Accuracy: {acc:.4f}\")\n",
        "print(classification_report(y_test, y_pred))\n",
        "print(confusion_matrix(y_test, y_pred))\n",
        "\n",
        "# Predict cancer diagnosis for a new input sample\n",
        "print(\"\\nEnter tumor features to predict diagnosis:\")\n",
        "input_features = []\n",
        "for feature in X.columns:\n",
        "    value = float(input(f\"{feature}: \"))\n",
        "    input_features.append(value)\n",
        "\n",
        "# Normalize user input\n",
        "input_features = np.array(input_features).reshape(1, -1)\n",
        "input_features_scaled = scaler.transform(input_features)\n",
        "\n",
        "# Make prediction\n",
        "prediction = model.predict(input_features_scaled)\n",
        "predicted_label = label_encoder.inverse_transform(prediction)[0]\n",
        "print(f\"Predicted Diagnosis: {predicted_label} (M = Malignant, B = Benign)\")3"
      ]
    }
  ]
}